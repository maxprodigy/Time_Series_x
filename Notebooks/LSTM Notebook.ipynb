{
 "cells": [
  {
   "cell_type": "markdown",
   "id": "70b71da9",
   "metadata": {},
   "source": [
    "# PM2.5 Forecasting - Optimized LSTM Model\n",
    "\n",
    "This notebook implements a fully optimized time series forecasting model using advanced LSTM architecture, denormalization, and feature engineering to improve RMSE on the Kaggle leaderboard."
   ]
  },
  {
   "cell_type": "code",
   "execution_count": null,
   "id": "3614ae1e",
   "metadata": {},
   "outputs": [],
   "source": [
    "import pandas as pd\n",
    "import numpy as np\n",
    "import matplotlib.pyplot as plt\n",
    "from sklearn.preprocessing import MinMaxScaler\n",
    "from sklearn.metrics import mean_squared_error\n",
    "from tensorflow.keras.models import Sequential\n",
    "from tensorflow.keras.layers import LSTM, Dense, Dropout\n",
    "from tensorflow.keras.callbacks import EarlyStopping, ReduceLROnPlateau\n",
    "from math import sqrt\n"
   ]
  },
  {
   "cell_type": "code",
   "execution_count": null,
   "id": "8c40c02a",
   "metadata": {},
   "outputs": [],
   "source": [
    "train = pd.read_csv('train.csv', parse_dates=['datetime'])\n",
    "test = pd.read_csv('test.csv', parse_dates=['datetime'])\n",
    "sample_submission = pd.read_csv('sample_submission.csv')\n",
    "\n",
    "train.set_index('datetime', inplace=True)\n",
    "test.set_index('datetime', inplace=True)\n"
   ]
  },
  {
   "cell_type": "code",
   "execution_count": null,
   "id": "699d3081",
   "metadata": {},
   "outputs": [],
   "source": [
    "train['pm2.5'] = train['pm2.5'].interpolate(method='time')\n",
    "train.dropna(subset=['pm2.5'], inplace=True)\n",
    "\n",
    "train['pm2.5_lag1'] = train['pm2.5'].shift(1)\n",
    "train['pm2.5_roll3'] = train['pm2.5'].rolling(window=3).mean()\n",
    "train.dropna(inplace=True)\n",
    "\n",
    "features = ['DEWP', 'TEMP', 'PRES', 'Iws', 'Is', 'Ir', \n",
    "            'cbwd_NW', 'cbwd_SE', 'cbwd_cv', \n",
    "            'pm2.5_lag1', 'pm2.5_roll3']\n",
    "\n",
    "scaler = MinMaxScaler()\n",
    "scaled_features = scaler.fit_transform(train[features])\n",
    "combined = np.hstack([scaled_features, train[['pm2.5']].values])\n"
   ]
  },
  {
   "cell_type": "code",
   "execution_count": null,
   "id": "b67afaa4",
   "metadata": {},
   "outputs": [],
   "source": [
    "def create_sequences(data, seq_length=48):\n",
    "    X, y = [], []\n",
    "    for i in range(len(data) - seq_length):\n",
    "        X.append(data[i:i+seq_length, :-1])\n",
    "        y.append(data[i+seq_length, -1])\n",
    "    return np.array(X), np.array(y)\n",
    "\n",
    "seq_length = 48\n",
    "X, y = create_sequences(combined)\n",
    "\n",
    "split = int(0.8 * len(X))\n",
    "X_train, X_val = X[:split], X[split:]\n",
    "y_train, y_val = y[:split], y[split:]\n"
   ]
  },
  {
   "cell_type": "code",
   "execution_count": null,
   "id": "8ca0b381",
   "metadata": {},
   "outputs": [],
   "source": [
    "model = Sequential([\n",
    "    LSTM(128, return_sequences=True, input_shape=(X_train.shape[1], X_train.shape[2])),\n",
    "    Dropout(0.3),\n",
    "    LSTM(64),\n",
    "    Dropout(0.3),\n",
    "    Dense(1)\n",
    "])\n",
    "\n",
    "model.compile(optimizer='adam', loss='mse')\n",
    "es = EarlyStopping(monitor='val_loss', patience=7, restore_best_weights=True)\n",
    "lr = ReduceLROnPlateau(monitor='val_loss', factor=0.5, patience=3)\n",
    "\n",
    "history = model.fit(X_train, y_train, validation_data=(X_val, y_val),\n",
    "                    epochs=50, batch_size=64, callbacks=[es, lr])\n"
   ]
  },
  {
   "cell_type": "code",
   "execution_count": null,
   "id": "5dc11213",
   "metadata": {},
   "outputs": [],
   "source": [
    "val_preds = model.predict(X_val)\n",
    "rmse = sqrt(mean_squared_error(y_val, val_preds))\n",
    "print(\"Validation RMSE:\", rmse)\n",
    "\n",
    "plt.figure(figsize=(10, 4))\n",
    "plt.plot(y_val[:200], label='Actual')\n",
    "plt.plot(val_preds[:200], label='Predicted')\n",
    "plt.legend()\n",
    "plt.title(\"Sample Validation Predictions\")\n",
    "plt.show()\n"
   ]
  },
  {
   "cell_type": "code",
   "execution_count": null,
   "id": "ccb12ef1",
   "metadata": {},
   "outputs": [],
   "source": [
    "test_scaled = scaler.transform(test[features])\n",
    "test_sequences = [test_scaled[i:i+seq_length] for i in range(len(test_scaled) - seq_length)]\n",
    "X_test = np.array(test_sequences)\n",
    "\n",
    "test_preds = model.predict(X_test)\n",
    "\n",
    "pm25_scaler = MinMaxScaler()\n",
    "pm25_scaler.fit(train[['pm2.5']])\n",
    "sample_submission['pm2.5'] = pm25_scaler.inverse_transform(test_preds[:len(sample_submission)])\n",
    "\n",
    "sample_submission.to_csv('submission.csv', index=False)\n",
    "sample_submission.head()\n"
   ]
  }
 ],
 "metadata": {},
 "nbformat": 4,
 "nbformat_minor": 5
}
